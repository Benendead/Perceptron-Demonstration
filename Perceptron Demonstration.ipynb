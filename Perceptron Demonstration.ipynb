{
 "cells": [
  {
   "cell_type": "markdown",
   "metadata": {},
   "source": [
    "Imports numpy, matplotlib, and a random number method for use later in the notebook."
   ]
  },
  {
   "cell_type": "code",
   "execution_count": 1,
   "metadata": {},
   "outputs": [],
   "source": [
    "import numpy as np\n",
    "import matplotlib.pyplot as plt\n",
    "from random import randint"
   ]
  },
  {
   "cell_type": "code",
   "execution_count": 2,
   "metadata": {},
   "outputs": [],
   "source": [
    "%matplotlib inline"
   ]
  },
  {
   "cell_type": "code",
   "execution_count": 3,
   "metadata": {},
   "outputs": [],
   "source": [
    "def rNeg1Pos1():\n",
    "    \"\"\"Returns a random number between -1 and +1.\"\"\"\n",
    "    return (np.random.rand() * 2) - 1"
   ]
  },
  {
   "cell_type": "markdown",
   "metadata": {},
   "source": [
    "This Perceptron class is the centerpiece of this notebook.\n",
    "Given example points, it can learn to linearly classify future points."
   ]
  },
  {
   "cell_type": "code",
   "execution_count": 4,
   "metadata": {},
   "outputs": [],
   "source": [
    "class Perceptron:\n",
    "    \"\"\"\n",
    "    A Perceptron takes a given number of inputs, multiplies these inputs with corresponding weights, and then\n",
    "    applies a step function on the sum to make a prediction on the given inputs' classification. It can then\n",
    "    train using error from incorrectly classified inputs in order to improve its predictions on future examples.\n",
    "    \"\"\"\n",
    "    def __init__(self, inputNum = 2, learningRate = 0.1):\n",
    "        \"\"\"\n",
    "        Parameters\n",
    "        ----------\n",
    "        inputNum : int\n",
    "            The number of inputs the Perceptron can take. Defaults to 2.\n",
    "        learningRate : float\n",
    "            The learning rate influences how quickly the Perceptron will train using each training example.\n",
    "        \"\"\"\n",
    "        self.lr = learningRate\n",
    "        # Creates a bias of 1 and the correct number of randomly generated weights.\n",
    "        self.weights = np.append([1.0], np.random.rand(inputNum))\n",
    "    \n",
    "    def inputFix(self, inputArray):\n",
    "        \"\"\"\n",
    "        Prepends a 1 to the beginning of the input, which allows the Perceptron's bias to function.\n",
    "        \n",
    "        Parameters\n",
    "        ----------\n",
    "        inputArray : numpy array\n",
    "            A modified version of this array (with a 1 prepended before it) will be returned.\n",
    "        \"\"\"\n",
    "        return np.append([1.0], inputArray)\n",
    "    \n",
    "    def getInputNum(self):\n",
    "        \"\"\"Returns the intended number of inputs for this Perceptron.\"\"\"\n",
    "        return len(self.weights) - 1\n",
    "    \n",
    "    def getWeights(self):\n",
    "        \"\"\"Returns the weights array of this Perceptron.\"\"\"\n",
    "        return self.weights\n",
    "    \n",
    "    def activation(self, n):\n",
    "        \"\"\"\n",
    "        Acts as a step function, which is this Perceptron's activation function.\n",
    "        \n",
    "        Parameters\n",
    "        ----------\n",
    "        n : int or float\n",
    "            The number whose sign will be returned.\n",
    "        \"\"\"\n",
    "        return np.sign(n)\n",
    "    \n",
    "    def guess(self, p):\n",
    "        \"\"\"\n",
    "        Given a Point, returns the Perceptron's guess of the Point's classification.\n",
    "        \n",
    "        Parameters\n",
    "        ----------\n",
    "        p : Point\n",
    "            The Point this method will attempt to classify.\n",
    "        \"\"\"\n",
    "        total = np.dot(self.weights, self.inputFix(p.getCoords()))\n",
    "        return self.activation(total)\n",
    "    \n",
    "    def train(self, p):\n",
    "        \"\"\"\n",
    "        Trains the Perceptron using a given Point.\n",
    "        \n",
    "        Parameters\n",
    "        ----------\n",
    "        p : Point\n",
    "            The Point that the Perceptron will train on.\n",
    "        \"\"\"\n",
    "        # Adds a 1 to the beginning of the coordinates, allowing the Perceptron's bias to work as intended.\n",
    "        fixedInputs = self.inputFix(p.getCoords())\n",
    "        \n",
    "        # The error is the difference between the Point's ground truth classification and the Perceptron's guess.\n",
    "        error = p.getLabel() - self.guess(p)\n",
    "        \n",
    "        # For each weight, update the weight based on the Perceptron's error on the current training example.\n",
    "        for i in range(len(self.weights)):\n",
    "            self.weights[i] = self.weights[i] + (error * fixedInputs[i] * self.lr)\n",
    "    \n",
    "    def lowerLearningRate(self):\n",
    "        \"\"\"Decreases the influence of future training by decreasing the Perceptron's learning rate by 10%.\"\"\"\n",
    "        self.lr = self.lr * 0.90"
   ]
  },
  {
   "cell_type": "code",
   "execution_count": 5,
   "metadata": {},
   "outputs": [
    {
     "name": "stdout",
     "output_type": "stream",
     "text": [
      "2\n",
      "[1.         0.65250268 0.31601323]\n"
     ]
    }
   ],
   "source": [
    "p = Perceptron(2, 0.1)\n",
    "print(p.getInputNum())\n",
    "print(p.getWeights())"
   ]
  },
  {
   "cell_type": "code",
   "execution_count": 6,
   "metadata": {},
   "outputs": [
    {
     "name": "stdout",
     "output_type": "stream",
     "text": [
      "-6.927651835490913 9.748254246440673\n"
     ]
    }
   ],
   "source": [
    "width = 500 # Sets the width of the graph.\n",
    "height = 500 # Sets the height of the graph.\n",
    "m = rNeg1Pos1() * 10 # Sets the slope of our ground truth line to a random number between -10 and 10.\n",
    "b = rNeg1Pos1() * 10 # Sets the y-intercept of our ground truth line to a random number between -10 and 10.\n",
    "print(m, b)"
   ]
  },
  {
   "cell_type": "code",
   "execution_count": 7,
   "metadata": {},
   "outputs": [
    {
     "data": {
      "image/png": "[encoded data removed]",
      "text/plain": [
       "<Figure size 432x288 with 1 Axes>"
      ]
     },
     "metadata": {},
     "output_type": "display_data"
    }
   ],
   "source": [
    "x = np.arange(-width//2, width//2, 0.1) # Sets the range of x for the graph.\n",
    "y = m*x + b\n",
    "\n",
    "def graphLine():\n",
    "    \"\"\"Graphs the ground truth line.\"\"\"\n",
    "    plt.axis([-width//2, width//2, -height//2, height//2])\n",
    "    plt.plot(x, y)\n",
    "    \n",
    "graphLine()"
   ]
  },
  {
   "cell_type": "code",
   "execution_count": 8,
   "metadata": {},
   "outputs": [],
   "source": [
    "class Point():\n",
    "    \"\"\"\n",
    "    A Point has both an x- and y-coordinates and can plot itself using the matplotlib library. It also calculates\n",
    "    and then stores its correct classification based on whether it's above or below the ground truth line.\n",
    "    \"\"\"\n",
    "    def __init__(self):\n",
    "        # Sets the Point's x- and y-coordinates to somewhere in the graph's coordinate space.\n",
    "        self.x = rNeg1Pos1() * width / 2\n",
    "        self.y = rNeg1Pos1() * height / 2\n",
    "        # Sets the Point's \"correct label\" depending on whether the Point is above or below the ground truth line.\n",
    "        self.label = np.sign(self.y - (m*self.x + b))\n",
    "        # This stores whether the Point is part of the training or testing data set. Defaults to training set.\n",
    "        self.train = True\n",
    "    \n",
    "    def plotMe(self):\n",
    "        \"\"\"\n",
    "        Plots this Point on the graph.\n",
    "        The plotted point will be colored blue if it's above or red if it's below the ground truth line.\n",
    "        \"\"\"\n",
    "        if self.label == 1:\n",
    "            plt.plot([self.x], [self.y], \"bo\")  \n",
    "        else:\n",
    "            plt.plot([self.x], [self.y], \"ro\")\n",
    "    \n",
    "    def plotGuess(self, g):\n",
    "        \"\"\"\n",
    "        Plots this Point on the graph, colored green if it was correctly classified and red if it was not.\n",
    "        \n",
    "        Parameters\n",
    "        ----------\n",
    "        g : int\n",
    "            The Perceptron's guess of this Point's classification.\n",
    "        \"\"\"\n",
    "        if g == 1:\n",
    "            plt.plot([self.x], [self.y], \"go\")  \n",
    "        else:\n",
    "            plt.plot([self.x], [self.y], \"ro\")\n",
    "\n",
    "    def plotTest(self, g):\n",
    "        \"\"\"\n",
    "        Plots this Point on the graph if the Point is part of the test data. \n",
    "        The plotted Point will be colored green if it was correctly classified and red if it was not.\n",
    "        \n",
    "        Parameters\n",
    "        ----------\n",
    "        g : int\n",
    "            The Perceptron's guess of this Point's classification.\n",
    "        \"\"\"\n",
    "        if self.train == False:\n",
    "            if g == self.label:\n",
    "                plt.plot([self.x], [self.y], \"g.\")  \n",
    "            else:\n",
    "                plt.plot([self.x], [self.y], \"ro\")\n",
    "    \n",
    "    def getCoords(self):\n",
    "        \"\"\"Returns this Point's coordinates as a numpy array.\"\"\"\n",
    "        return np.array([self.x, self.y])\n",
    "    \n",
    "    def getLabel(self):\n",
    "        \"\"\"Returns the correct label for this Point.\"\"\"\n",
    "        return self.label\n",
    "    \n",
    "    def setTest(self):\n",
    "        \"\"\"Sets this Point as part of the test data set.\"\"\"\n",
    "        self.train = False"
   ]
  },
  {
   "cell_type": "code",
   "execution_count": 9,
   "metadata": {},
   "outputs": [],
   "source": [
    "def setTestData(percentTestData, pointArr):\n",
    "    \"\"\"\n",
    "    Sets a given percentage of the Points in the data set as test data.\n",
    "    \n",
    "    Parameters\n",
    "    ----------\n",
    "    percentTestData : float\n",
    "        The percent, given as a decimal out of 1, of the data that should be in the test set.\n",
    "    pointArr : Point array\n",
    "        The array containing the data set of Points.\n",
    "    \"\"\"\n",
    "    for point in pointArr:\n",
    "        r = np.random.rand()\n",
    "        if percentTestData > r:\n",
    "            point.setTest()"
   ]
  },
  {
   "cell_type": "code",
   "execution_count": 10,
   "metadata": {},
   "outputs": [
    {
     "data": {
      "image/png": "[encoded data removed]",
      "text/plain": [
       "<Figure size 432x288 with 1 Axes>"
      ]
     },
     "metadata": {},
     "output_type": "display_data"
    }
   ],
   "source": [
    "points = []\n",
    "pointNumber = 1000 # The size of the data set.\n",
    "for i in range(pointNumber):\n",
    "    points.append(Point())\n",
    "\n",
    "setTestData(0.25, points)\n",
    "    \n",
    "def graphAll():\n",
    "    \"\"\"Graphs the ground truth line as well as all Points in the data set.\"\"\"\n",
    "    graphLine()\n",
    "    for point in points:\n",
    "        point.plotMe()\n",
    "\n",
    "graphAll()"
   ]
  },
  {
   "cell_type": "code",
   "execution_count": 11,
   "metadata": {},
   "outputs": [
    {
     "data": {
      "image/png": "[encoded data removed]",
      "text/plain": [
       "<Figure size 432x288 with 1 Axes>"
      ]
     },
     "metadata": {},
     "output_type": "display_data"
    }
   ],
   "source": [
    "def graphGuess():\n",
    "    \"\"\"Graphs the ground truth line as well as the Perceptron's current guess for each Point's classification.\"\"\"\n",
    "    graphLine()\n",
    "    for point in points:\n",
    "        guess = p.guess(point)\n",
    "        point.plotGuess(guess)\n",
    "\n",
    "graphGuess()"
   ]
  },
  {
   "cell_type": "code",
   "execution_count": 12,
   "metadata": {},
   "outputs": [],
   "source": [
    "def graphTest(showCorrect = True):\n",
    "    \"\"\"\n",
    "    Graphs the ground truth line as well as the Points that are part of the test data set.\n",
    "    \n",
    "    Parameters\n",
    "    ----------\n",
    "    showCorrect : bool\n",
    "        Determines whether or not correctly classified points should be plotted. Defaults to True.\n",
    "    \"\"\"\n",
    "    graphLine()\n",
    "    for point in points:\n",
    "        if not point.train:\n",
    "            guess = p.guess(point)\n",
    "            if (not showCorrect) and guess == point.getLabel():\n",
    "                continue\n",
    "            point.plotTest(guess)"
   ]
  },
  {
   "cell_type": "code",
   "execution_count": 13,
   "metadata": {},
   "outputs": [
    {
     "data": {
      "image/png": "[encoded data removed]",
      "text/plain": [
       "<Figure size 432x288 with 1 Axes>"
      ]
     },
     "metadata": {},
     "output_type": "display_data"
    }
   ],
   "source": [
    "# Plot all incorrectly classified test examples.\n",
    "graphTest(False)"
   ]
  },
  {
   "cell_type": "code",
   "execution_count": 14,
   "metadata": {},
   "outputs": [],
   "source": [
    "def trainRandom(exampleNum):\n",
    "    \"\"\"\n",
    "    Trains the Perceptron on a given number of random training examples.\n",
    "    \n",
    "    Parameters\n",
    "    ----------\n",
    "    exampleNum : int\n",
    "        The number of example Points to train on.\n",
    "    \"\"\"\n",
    "    availableExamples = []\n",
    "    for i in range(pointNumber):\n",
    "        availableExamples.append(i)\n",
    "    \n",
    "    for i in range(1, exampleNum + 1):\n",
    "        print(\"Training... Step %d of %d\" % (i, exampleNum))\n",
    "        while (True):\n",
    "            # If we've trained on every Point, exit the loop.\n",
    "            if (len(availableExamples) == 0):\n",
    "                print(\"All usable examples have been trained on. Exiting training.\")\n",
    "                return\n",
    "            \n",
    "            # Update our example to a random unused Point index.\n",
    "            currentNum = randint(0, len(availableExamples) - 1)\n",
    "            \n",
    "            # Remove the used Point index from the array of available Point indices.\n",
    "            currentPoint = points[availableExamples[currentNum]]\n",
    "            del availableExamples[currentNum]\n",
    "            \n",
    "            # Doesn't train on the Point if it's either not part of the training data or already correct.\n",
    "            if (currentPoint.train == False) or (currentPoint.getLabel() == p.guess(currentPoint)):\n",
    "                continue\n",
    "            else:\n",
    "                print(\"Training on Point %d.\" % (currentNum))\n",
    "                p.train(currentPoint)\n",
    "                p.lowerLearningRate()\n",
    "                break\n",
    "    print(\"Successfully trained on %d points.\" % (exampleNum))"
   ]
  },
  {
   "cell_type": "code",
   "execution_count": 15,
   "metadata": {},
   "outputs": [],
   "source": [
    "def trainAll(feedback = True):\n",
    "    \"\"\"\n",
    "    Trains the Perceptron using all training examples. Returns the accuracy percent on used training examples.\n",
    "    \n",
    "    Parameters\n",
    "    ----------\n",
    "    feedback : bool\n",
    "        Determines whether or not to print intermediate updates during the training. Defaults to True.\n",
    "    \"\"\"\n",
    "    totalMistakes = 0\n",
    "    totalTrainedOn = 0\n",
    "    for i in range(pointNumber):\n",
    "        if feedback:\n",
    "            print(\"Training on Point %d of %d\" % (i + 1, pointNumber))\n",
    "        example = points[i]\n",
    "        # Doesn't train on the Point if it's either not part of the training data or already correct.\n",
    "        if (example.train == False):\n",
    "            continue\n",
    "        totalTrainedOn += 1\n",
    "        if (example.getLabel() == p.guess(example)):\n",
    "            continue\n",
    "        else:\n",
    "            totalMistakes += 1\n",
    "            p.train(example)\n",
    "    accuracyPercent = 100. * (1 - (float(totalMistakes) / totalTrainedOn))\n",
    "    if feedback:\n",
    "        print(\"Training on all points complete.\")\n",
    "        print(\"Total mistakes: %d out of %d training examples.\" % (totalMistakes, totalTrainedOn))\n",
    "        print(\"This was a %f percent accuracy.\" % (accuracyPercent))\n",
    "    return accuracyPercent"
   ]
  },
  {
   "cell_type": "code",
   "execution_count": 16,
   "metadata": {},
   "outputs": [],
   "source": [
    "def continueTraining(feedback = True):\n",
    "    \"\"\"\n",
    "    Lowers the Perceptron's learning rate and then trains using all training Points.\n",
    "    Returns the accuracy percent on used training examples.\n",
    "    \n",
    "    Parameters\n",
    "    ----------\n",
    "    feedback : bool\n",
    "        Determines whether or not to print intermediate updates during the training. Defaults to True.\n",
    "    \"\"\"\n",
    "    p.lowerLearningRate()\n",
    "    accuracyPercent = trainAll(feedback)\n",
    "    return accuracyPercent"
   ]
  },
  {
   "cell_type": "code",
   "execution_count": 17,
   "metadata": {},
   "outputs": [],
   "source": [
    "def trainComplete(maxTrainingSteps, feedback = False):\n",
    "    \"\"\"\n",
    "    Trains using all examples repeatedly until either a maximum number of training steps is reached \n",
    "    or all training data was correctly classified.\n",
    "    \n",
    "    Parameters\n",
    "    ----------\n",
    "    maxTrainingSteps : int\n",
    "        The maximum number of training cycles the Perceptron is allowed to undergo.\n",
    "    feedback : bool\n",
    "        Determines whether or not to print intermediate updates during the training. Defaults to False.\n",
    "    \"\"\"\n",
    "    print(\"Perceptron now on training step 1.\")\n",
    "    accuracy = trainAll(False)\n",
    "    counter = 1\n",
    "    while (True):\n",
    "        if accuracy == 100:\n",
    "            print(\"Perceptron trained after %d training steps.\" % (counter))\n",
    "            return\n",
    "        if counter >= maxTrainingSteps:\n",
    "            print(\"Maximum number of training steps, %d, was reached.\" % (maxTrainingSteps))\n",
    "            return\n",
    "        counter += 1\n",
    "        print(\"Perceptron now on training step %d.\" % (counter))\n",
    "        print(\"The last step had a %f percent accuracy on the training data set.\" % (accuracy))\n",
    "        accuracy = continueTraining(False)"
   ]
  },
  {
   "cell_type": "code",
   "execution_count": 18,
   "metadata": {
    "scrolled": false
   },
   "outputs": [],
   "source": [
    "def test():\n",
    "    \"\"\"Prints information about whether or not the Perceptron correctly classified the test examples.\"\"\"\n",
    "    testExamples = 0\n",
    "    correct = 0\n",
    "    for point in points:\n",
    "        # If the Point was part of the training data set, don't include it in this calculation.\n",
    "        if point.train == True:\n",
    "            continue\n",
    "        else:\n",
    "            testExamples += 1\n",
    "            if (p.guess(point) == point.getLabel()):\n",
    "                correct += 1\n",
    "            else:\n",
    "                continue\n",
    "    print(\"The Perceptron correctly classified %d test examples out of %d.\" % (correct, testExamples))\n",
    "    print(\"This was a %f percent accuracy.\" % (100 * correct / testExamples))"
   ]
  },
  {
   "cell_type": "code",
   "execution_count": 19,
   "metadata": {},
   "outputs": [
    {
     "name": "stdout",
     "output_type": "stream",
     "text": [
      "Training... Step 1 of 10\n",
      "Training on Point 291.\n",
      "Training... Step 2 of 10\n",
      "Training on Point 857.\n",
      "Training... Step 3 of 10\n",
      "Training on Point 526.\n",
      "Training... Step 4 of 10\n",
      "Training on Point 73.\n",
      "Training... Step 5 of 10\n",
      "Training on Point 736.\n",
      "Training... Step 6 of 10\n",
      "Training on Point 692.\n",
      "Training... Step 7 of 10\n",
      "Training on Point 711.\n",
      "Training... Step 8 of 10\n",
      "Training on Point 281.\n",
      "Training... Step 9 of 10\n",
      "Training on Point 364.\n",
      "Training... Step 10 of 10\n",
      "Training on Point 5.\n",
      "Successfully trained on 10 points.\n"
     ]
    }
   ],
   "source": [
    "trainRandom(10)"
   ]
  },
  {
   "cell_type": "code",
   "execution_count": 20,
   "metadata": {},
   "outputs": [
    {
     "name": "stdout",
     "output_type": "stream",
     "text": [
      "The Perceptron correctly classified 252 test examples out of 259.\n",
      "This was a 97.297297 percent accuracy.\n"
     ]
    }
   ],
   "source": [
    "test()"
   ]
  },
  {
   "cell_type": "code",
   "execution_count": 21,
   "metadata": {
    "scrolled": true
   },
   "outputs": [
    {
     "data": {
      "image/png": "[encoded data removed]",
      "text/plain": [
       "<Figure size 432x288 with 1 Axes>"
      ]
     },
     "metadata": {},
     "output_type": "display_data"
    }
   ],
   "source": [
    "# Plot all test examples, colored green or red depending on if the Perceptron correctly classified the Point.\n",
    "graphTest()"
   ]
  },
  {
   "cell_type": "code",
   "execution_count": 22,
   "metadata": {},
   "outputs": [
    {
     "data": {
      "image/png": "[encoded data removed]",
      "text/plain": [
       "<Figure size 432x288 with 1 Axes>"
      ]
     },
     "metadata": {},
     "output_type": "display_data"
    }
   ],
   "source": [
    "# Plot all incorrectly labeled test examples.\n",
    "graphTest(False)"
   ]
  },
  {
   "cell_type": "code",
   "execution_count": 23,
   "metadata": {},
   "outputs": [
    {
     "name": "stdout",
     "output_type": "stream",
     "text": [
      "Perceptron now on training step 1.\n",
      "Perceptron now on training step 2.\n",
      "The last step had a 99.190283 percent accuracy on the training data set.\n",
      "Perceptron now on training step 3.\n",
      "The last step had a 99.595142 percent accuracy on the training data set.\n",
      "Perceptron now on training step 4.\n",
      "The last step had a 99.055331 percent accuracy on the training data set.\n",
      "Perceptron now on training step 5.\n",
      "The last step had a 99.595142 percent accuracy on the training data set.\n",
      "Maximum number of training steps, 5, was reached.\n"
     ]
    }
   ],
   "source": [
    "trainComplete(5, True)"
   ]
  },
  {
   "cell_type": "code",
   "execution_count": 24,
   "metadata": {},
   "outputs": [
    {
     "name": "stdout",
     "output_type": "stream",
     "text": [
      "The Perceptron correctly classified 256 test examples out of 259.\n",
      "This was a 98.841699 percent accuracy.\n"
     ]
    }
   ],
   "source": [
    "test()"
   ]
  },
  {
   "cell_type": "code",
   "execution_count": 25,
   "metadata": {},
   "outputs": [
    {
     "data": {
      "image/png": "[encoded data removed]",
      "text/plain": [
       "<Figure size 432x288 with 1 Axes>"
      ]
     },
     "metadata": {},
     "output_type": "display_data"
    }
   ],
   "source": [
    "# Plot all incorrectly labeled test examples.\n",
    "graphTest(False)"
   ]
  }
 ],
 "metadata": {
  "kernelspec": {
   "display_name": "Python 3",
   "language": "python",
   "name": "python3"
  },
  "language_info": {
   "codemirror_mode": {
    "name": "ipython",
    "version": 3
   },
   "file_extension": ".py",
   "mimetype": "text/x-python",
   "name": "python",
   "nbconvert_exporter": "python",
   "pygments_lexer": "ipython3",
   "version": "3.6.5"
  }
 },
 "nbformat": 4,
 "nbformat_minor": 2
}
